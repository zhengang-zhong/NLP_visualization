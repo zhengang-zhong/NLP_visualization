{
 "cells": [
  {
   "cell_type": "code",
   "execution_count": 222,
   "metadata": {},
   "outputs": [],
   "source": [
    "import numpy as np\n",
    "import casadi as ca"
   ]
  },
  {
   "cell_type": "code",
   "execution_count": 223,
   "metadata": {},
   "outputs": [
    {
     "data": {
      "text/plain": [
       "array([[8., 8., 8.],\n",
       "       [8., 8., 8.],\n",
       "       [8., 8., 8.]])"
      ]
     },
     "execution_count": 223,
     "metadata": {},
     "output_type": "execute_result"
    }
   ],
   "source": [
    "n = 3\n",
    "a = np.ones([n,n])+1\n",
    "a**3\n",
    "# np.power(a,3)"
   ]
  },
  {
   "cell_type": "code",
   "execution_count": 224,
   "metadata": {},
   "outputs": [
    {
     "name": "stdout",
     "output_type": "stream",
     "text": [
      "[0. 1. 4.]\n",
      "[[0. 1. 2.]\n",
      " [3. 4. 5.]\n",
      " [6. 7. 8.]]\n",
      "[0. 1. 2.]\n"
     ]
    }
   ],
   "source": [
    "x1 = np.arange(9.0).reshape((3, 3))\n",
    "x2 = np.arange(3.0)\n",
    "print(np.multiply(x2, x2))\n",
    "\n",
    "print(x1)\n",
    "print(x2)"
   ]
  },
  {
   "cell_type": "code",
   "execution_count": 225,
   "metadata": {},
   "outputs": [],
   "source": [
    "def cholesky_factorization_LDL(A):\n",
    "    '''\n",
    "    LDL.T form\n",
    "    ''' \n",
    "    n = np.shape(A)[0]\n",
    "    c = np.zeros([n,n])\n",
    "#     l = np.zeros([n,n])\n",
    "    l = np.diag([1]*n)\n",
    "    d = np.zeros(n).reshape(-1,1)\n",
    "    for j in range(n):\n",
    "        if j == 0:\n",
    "            c[j,j] = A[j,j] \n",
    "        else:\n",
    "            c[j,j] = A[j,j] - l[j,:j] ** 2 @ d[:j,:] \n",
    "        d[j,:] =  c[j,j]\n",
    "    \n",
    "        if j == n-1:\n",
    "            return l,d\n",
    "        for i in range(j + 1, n):\n",
    "#             print(j)\n",
    "#             print(i)\n",
    "            if j == 0:\n",
    "                c[i,j] = A[i,j]\n",
    "            else:\n",
    "                print(j)\n",
    "                c[i,j] = A[i,j] - (l[i,:j] * l[j,:j]) @ d[:j,:] \n",
    "                print( d[:j,:])\n",
    "            l[i,j] = c[i,j] / d[j,:] \n",
    "#             print(l[i,j])\n",
    "    return l,d"
   ]
  },
  {
   "cell_type": "code",
   "execution_count": 226,
   "metadata": {},
   "outputs": [],
   "source": [
    "def cholesky_factorization_LL(A):\n",
    "    '''\n",
    "    LL.T form\n",
    "    ''' \n",
    "    n = np.shape(A)[0]\n",
    "    c = np.zeros([n,n])\n",
    "#     l = np.zeros([n,n])\n",
    "    l = np.diag([1]*n)\n",
    "    d = np.zeros(n).reshape(-1,1)\n",
    "    for j in range(n):\n",
    "        if j == 0:\n",
    "            c[j,j] = A[j,j] \n",
    "        else:\n",
    "            c[j,j] = A[j,j] - l[j,:j] ** 2 @ d[:j,:] \n",
    "        d[j,:] =  c[j,j]\n",
    "    \n",
    "        if j == n-1:\n",
    "            return l,d\n",
    "        for i in range(j + 1, n):\n",
    "#             print(j)\n",
    "#             print(i)\n",
    "            if j == 0:\n",
    "                c[i,j] = A[i,j]\n",
    "            else:\n",
    "                print(j)\n",
    "                c[i,j] = A[i,j] - (l[i,:j] * l[j,:j]) @ d[:j,:] \n",
    "                print( d[:j,:])\n",
    "            l[i,j] = c[i,j] / d[j,:] \n",
    "#             print(l[i,j])\n",
    "    return l,d"
   ]
  },
  {
   "cell_type": "code",
   "execution_count": 227,
   "metadata": {},
   "outputs": [
    {
     "data": {
      "text/plain": [
       "array([[  9,  27,  27],\n",
       "       [ 27,  90, 108],\n",
       "       [ 27, 108, 171]])"
      ]
     },
     "execution_count": 227,
     "metadata": {},
     "output_type": "execute_result"
    }
   ],
   "source": [
    "L = np.array([[1,0,0],[3,1,0],[3,3,1]])\n",
    "D = np.diag([9,9,9])\n",
    "A = L @ D @ L.T\n",
    "A"
   ]
  },
  {
   "cell_type": "code",
   "execution_count": 228,
   "metadata": {},
   "outputs": [
    {
     "data": {
      "text/plain": [
       "array([[3, 0, 0],\n",
       "       [9, 3, 0],\n",
       "       [9, 9, 3]])"
      ]
     },
     "execution_count": 228,
     "metadata": {},
     "output_type": "execute_result"
    }
   ],
   "source": [
    "L @ np.diag([3,3,3])"
   ]
  },
  {
   "cell_type": "code",
   "execution_count": 229,
   "metadata": {},
   "outputs": [
    {
     "data": {
      "text/plain": [
       "array([[3., 0., 0.],\n",
       "       [9., 3., 0.],\n",
       "       [9., 9., 3.]])"
      ]
     },
     "execution_count": 229,
     "metadata": {},
     "output_type": "execute_result"
    }
   ],
   "source": [
    "L = np.linalg.cholesky(A)\n",
    "L"
   ]
  },
  {
   "cell_type": "code",
   "execution_count": 230,
   "metadata": {},
   "outputs": [
    {
     "name": "stdout",
     "output_type": "stream",
     "text": [
      "1\n",
      "[[9.]]\n"
     ]
    },
    {
     "data": {
      "text/plain": [
       "(array([[1, 0, 0],\n",
       "        [3, 1, 0],\n",
       "        [3, 3, 1]]),\n",
       " array([[9.],\n",
       "        [9.],\n",
       "        [9.]]))"
      ]
     },
     "execution_count": 230,
     "metadata": {},
     "output_type": "execute_result"
    }
   ],
   "source": [
    "cholesky_factorization_LDL(A)"
   ]
  },
  {
   "cell_type": "code",
   "execution_count": 231,
   "metadata": {},
   "outputs": [
    {
     "name": "stdout",
     "output_type": "stream",
     "text": [
      "1\n",
      "[[-10.]]\n"
     ]
    },
    {
     "data": {
      "text/plain": [
       "(array([[1, 0, 0],\n",
       "        [2, 1, 0],\n",
       "        [3, 0, 1]]),\n",
       " array([[-10.],\n",
       "        [ 81.],\n",
       "        [ 45.]]))"
      ]
     },
     "execution_count": 231,
     "metadata": {},
     "output_type": "execute_result"
    }
   ],
   "source": [
    "L = np.array([[1,0,0],[2,3,0],[3,2,1]])\n",
    "D = np.diag([-10,9,9])\n",
    "A = L @ D @ L.T\n",
    "\n",
    "cholesky_factorization_LDL(A)"
   ]
  }
 ],
 "metadata": {
  "kernelspec": {
   "display_name": "Python 3",
   "language": "python",
   "name": "python3"
  },
  "language_info": {
   "codemirror_mode": {
    "name": "ipython",
    "version": 3
   },
   "file_extension": ".py",
   "mimetype": "text/x-python",
   "name": "python",
   "nbconvert_exporter": "python",
   "pygments_lexer": "ipython3",
   "version": "3.7.7"
  }
 },
 "nbformat": 4,
 "nbformat_minor": 4
}
