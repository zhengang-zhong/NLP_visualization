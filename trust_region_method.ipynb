{
 "cells": [
  {
   "cell_type": "code",
   "execution_count": 7,
   "metadata": {},
   "outputs": [],
   "source": [
    "import numpy as np\n",
    "import casadi as ca\n",
    "\n",
    "import matplotlib as plt\n",
    "import matplotlib.cm as cm\n",
    "import matplotlib.pyplot as plt"
   ]
  },
  {
   "cell_type": "markdown",
   "metadata": {},
   "source": [
    "$p^{*}$ is a global solution of the trust-region problem iff\n",
    "\n",
    "$\\begin{aligned}(B+\\lambda I) p^{*} &=-g \\\\ \\lambda\\left(\\Delta-\\left\\|p^{*}\\right\\|\\right) &=0\\\\ \n",
    "(B+\\lambda I) &\\quad \\text{is positive semidefinite.}\\end{aligned}$"
   ]
  },
  {
   "cell_type": "code",
   "execution_count": 8,
   "metadata": {},
   "outputs": [],
   "source": [
    "def create_subproblem(f_func,Nx):\n",
    "    x = ca.SX.sym(\"x\",Nx)\n",
    "    p = ca.SX.sym(\"p\",Nx)\n",
    "    f = f_func(x)\n",
    "    delta_k = ca.SX.sym(\"delta_k\",1)\n",
    "    \n",
    "    grad = ca.SX.sym('grad',Nx)\n",
    "    H = ca.SX.sym('H',Nx,Nx)\n",
    "    \n",
    "    obj = f + grad.T @ p + 1/2 * p.T @ H @ p\n",
    "    g = ca.norm_2(p) - delta_k\n",
    "#     g = p.T @ p - delta_k ** 2    \n",
    "    para = ca.vertcat(delta_k, x,ca.reshape(grad,-1,1),ca.reshape(H,-1,1))\n",
    "    \n",
    "    solver_opt = {}\n",
    "    solver_opt['print_time'] = False\n",
    "    solver_opt['ipopt'] = {\n",
    "        'max_iter': 500,\n",
    "        'print_level': 1,\n",
    "        'acceptable_tol': 1e-9,\n",
    "        'acceptable_obj_change_tol': 1e-9\n",
    "    }\n",
    "    nlp = {'x':p, 'g':g, 'f':obj, 'p': para}\n",
    "    solver = ca.nlpsol('solver', 'ipopt', nlp, solver_opt)\n",
    "    return solver"
   ]
  },
  {
   "cell_type": "markdown",
   "metadata": {},
   "source": [
    "#### Cauchy point\n",
    "The minimizer of $m_{k}$ along the **steepest descent** direction $-g_{k}$, subject to the trust-region bound. It is an approximate solution which gives a sufficient reduction in the model and solves a linear version of the subproblem.\n",
    "\n",
    "Closed-form solution:$p_{k}^{\\mathrm{C}}=-\\tau_{k} \\frac{\\Delta_{k}}{\\left\\|g_{k}\\right\\|} g_{k}$"
   ]
  },
  {
   "cell_type": "code",
   "execution_count": 13,
   "metadata": {},
   "outputs": [],
   "source": [
    "def cauchy_point_method(Nx, delta_k, gk, Bk):\n",
    "        \n",
    "    # Consider either B is positive definite or negative definite.\n",
    "\n",
    "    \n",
    "    B_pos = (gk.T @ Bk @ gk > 0)\n",
    "    if B_pos is True:\n",
    "        tau_k = 1\n",
    "    else:\n",
    "        tau_k = ca.fmin(ca.norm_2(gk) ** 3, 1)\n",
    "        \n",
    "    p_cauchy = - tau_k * delta_k / ca.norm_2(gk) * gk"
   ]
  },
  {
   "cell_type": "markdown",
   "metadata": {},
   "source": [
    "#### Dogleg method\n",
    "It is used when $B$ is positive definite. The dogleg method chooses $p$ to minimize the model $m$ along this path, subject to the trust-region bound.\n",
    "\n",
    "$\\tilde{p}(\\tau)=\\left\\{\\begin{array}{ll}\\tau p^{\\mathrm{U}}, & 0 \\leq \\tau \\leq 1 \\\\ p^{\\mathrm{U}}+(\\tau-1)\\left(p^{\\mathrm{B}}-p^{\\mathrm{U}}\\right), & 1 \\leq \\tau \\leq 2\\end{array}\\right.$, where $p^{\\mathrm{B}}=-B^{-1} g$ and $p^{\\mathrm{U}}=-\\frac{g^{T} g}{g^{T} B g} g$\n",
    "\n",
    "And compute an appropirate $\\tau$ by\n",
    "$\\left\\|p^{\\mathrm{U}}+(\\tau-1)\\left(p^{\\mathrm{B}}-p^{\\mathrm{U}}\\right)\\right\\|^{2}=\\Delta^{2}$"
   ]
  },
  {
   "cell_type": "code",
   "execution_count": null,
   "metadata": {},
   "outputs": [],
   "source": [
    "# def dogleg_method(Nx, delta_k, gk, Bk):\n",
    "#     pB = ca.inv(Bk) @ gk\n",
    "#     pU = - (gk.t @ g) / (gk.T @ Bk @ gk ) * gk \n",
    "    \n",
    "    "
   ]
  },
  {
   "cell_type": "code",
   "execution_count": null,
   "metadata": {},
   "outputs": [],
   "source": [
    "# def two_d_subspace_min():"
   ]
  },
  {
   "cell_type": "code",
   "execution_count": 9,
   "metadata": {},
   "outputs": [],
   "source": [
    "Nx = 2\n",
    "N_iter = 10\n",
    "x_lim = 10\n",
    "y_lim = 10\n",
    "delta = 1\n",
    "delta_ub = 1\n",
    "delta_0 = delta_ub / 2\n",
    "eta = 0.1\n",
    "\n",
    "x_init = ca.DM([2.5,2.5])\n",
    "\n",
    "# diag_1 = 1\n",
    "# diag_2 = 10\n",
    "x_SX = ca.SX.sym('x',Nx)\n",
    "p_SX = ca.SX.sym('p',Nx)\n",
    "# Hq = ca.diag([diag_1,diag_2])\n",
    "# f = x_SX.T @ Hq @ x_SX\n",
    "f = x_SX[0] ** 2 + ca.sin(x_SX[1]) \n",
    "\n",
    "f_func = ca.Function(\"f_func\",[x_SX],[f])\n",
    "H,g = ca.hessian(f,x_SX)\n",
    "\n",
    "grad_func = ca.Function(\"grad_func\", [x_SX],[g])\n",
    "hessian_func = ca.Function(\"hessian_func\", [x_SX],[H])\n",
    "\n",
    "mk = f + g.T @ p_SX + 1/2 * p_SX.T @ H @ p_SX\n",
    "mk_func = ca.Function(\"mk_func\",[p_SX, x_SX],[mk])"
   ]
  },
  {
   "cell_type": "code",
   "execution_count": 10,
   "metadata": {},
   "outputs": [
    {
     "name": "stdout",
     "output_type": "stream",
     "text": [
      "0.25\n",
      "0.25\n",
      "0.25\n",
      "0.25\n",
      "0.25\n",
      "0.25\n",
      "0.25\n",
      "0.015646\n",
      "3.75248e-07\n",
      "1.58673e-22\n"
     ]
    }
   ],
   "source": [
    "subprob_solver = create_subproblem(f_func,Nx)\n",
    "nl_qp = {}\n",
    "\n",
    "xk = x_init\n",
    "p0 = ca.DM.zeros(Nx)\n",
    "delta_k = delta_0\n",
    "\n",
    "nl_qp['lbg'] = [-ca.inf]\n",
    "nl_qp['ubg'] = [0]\n",
    "nl_qp['lbx'] = [-np.inf] * Nx\n",
    "nl_qp['ubx'] = [+np.inf] * Nx\n",
    "\n",
    "x_sol_list = []\n",
    "x_sol_list += x_init.full().flatten().tolist()\n",
    "for i in range(N_iter):\n",
    "    Hk = hessian_func(xk)\n",
    "    gk = grad_func(xk)\n",
    "    \n",
    "    nl_qp['x0'] = xk\n",
    "    nl_qp['p'] = ca.vertcat(delta_k, xk, ca.reshape(gk,-1,1),ca.reshape(Hk,-1,1))\n",
    "    p_sol = subprob_solver(**nl_qp)['x']\n",
    "    xk_next = xk + p_sol\n",
    "\n",
    "    rho_k = ( f_func(xk) - f_func(xk_next) )/ ( mk_func(p0,xk) -  mk_func(p_sol,xk) )\n",
    "    print(p_sol.T @ p_sol )\n",
    "    if rho_k < 1/4:\n",
    "        delta_k_next = 1/4 * delta_k\n",
    "    else:\n",
    "        if rho_k > 3/4 and p_sol.T @ p_sol == delta_k:\n",
    "            delta_k_next = ca.fmin(2*delta_k, delta_ub)\n",
    "        else:\n",
    "            delta_k_next = delta_k\n",
    "    if rho_k > eta:\n",
    "        xk_next = xk + p_sol\n",
    "    else:\n",
    "        xk_next = xk\n",
    "    x_sol_list += xk_next.full().flatten().tolist()\n",
    "    xk = xk_next\n",
    "\n",
    "    delta_k = delta_k_next"
   ]
  },
  {
   "cell_type": "code",
   "execution_count": 11,
   "metadata": {},
   "outputs": [
    {
     "data": {
      "text/plain": [
       "[2.5,\n",
       " 2.5,\n",
       " 2.0111502431576778,\n",
       " 2.6050044028876993,\n",
       " 1.532852640597537,\n",
       " 2.7507144320648047,\n",
       " 1.079550655425711,\n",
       " 2.9617057095767447,\n",
       " 0.6817268981814615,\n",
       " 3.2645856638623085,\n",
       " 0.372187485759784,\n",
       " 3.6572501008439398,\n",
       " 0.15562869868106233,\n",
       " 4.107918824230729,\n",
       " 0.023501624920670816,\n",
       " 4.590145357046481,\n",
       " 2.5588275248678016e-10,\n",
       " 4.713001555521108,\n",
       " 2.61286870232197e-18,\n",
       " 4.7123889803970345,\n",
       " 2.61286870232197e-18,\n",
       " 4.7123889803970345]"
      ]
     },
     "execution_count": 11,
     "metadata": {},
     "output_type": "execute_result"
    }
   ],
   "source": [
    "x_sol_list"
   ]
  },
  {
   "cell_type": "code",
   "execution_count": 12,
   "metadata": {},
   "outputs": [
    {
     "name": "stdout",
     "output_type": "stream",
     "text": [
      "-1\n"
     ]
    },
    {
     "data": {
      "image/png": "[encoded data removed]",
      "text/plain": [
       "<Figure size 432x288 with 1 Axes>"
      ]
     },
     "metadata": {
      "needs_background": "light"
     },
     "output_type": "display_data"
    }
   ],
   "source": [
    "# levels = np.arange(-1,1,0.25)\n",
    "\n",
    "x = np.arange(-x_lim, x_lim, delta)\n",
    "y = np.arange(-y_lim, y_lim, delta)\n",
    "X, Y = np.meshgrid(x, y)\n",
    "Z = X **2 + np.sin(Y) \n",
    "fig, ax = plt.subplots()\n",
    "x1 = x_sol_list[::2]\n",
    "x2 = x_sol_list[1::2]\n",
    "ax.plot(x1,x2)\n",
    "# CS = ax.contour(X, Y, Z,levels=levels)\n",
    "CS = ax.contour(X, Y, Z)\n",
    "ax.clabel(CS, inline=1, fontsize=10)\n",
    "print(f_func([x1[-1],x2[-1]]))"
   ]
  }
 ],
 "metadata": {
  "kernelspec": {
   "display_name": "Python 3",
   "language": "python",
   "name": "python3"
  },
  "language_info": {
   "codemirror_mode": {
    "name": "ipython",
    "version": 3
   },
   "file_extension": ".py",
   "mimetype": "text/x-python",
   "name": "python",
   "nbconvert_exporter": "python",
   "pygments_lexer": "ipython3",
   "version": "3.7.7"
  }
 },
 "nbformat": 4,
 "nbformat_minor": 4
}
